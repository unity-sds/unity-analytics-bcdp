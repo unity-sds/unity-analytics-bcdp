{
 "cells": [
  {
   "cell_type": "markdown",
   "id": "4ca442ee",
   "metadata": {},
   "source": [
    "# BCDP Execution in U-SPS"
   ]
  },
  {
   "cell_type": "code",
   "execution_count": 1,
   "id": "e839d1ca",
   "metadata": {},
   "outputs": [],
   "source": [
    "import requests\n",
    "sps_url = 'http://a519940d6293d447a8668ea7bf86d326-1806755561.us-west-2.elb.amazonaws.com:5001'\n",
    "app_url = 'https://raw.githubusercontent.com/unity-sds/unity-analytics-bcdp/main/examples/cmip6-bucket/cwl/applicationDescriptor.json'"
   ]
  },
  {
   "cell_type": "markdown",
   "id": "2502d44e",
   "metadata": {},
   "source": [
    "The endpoint for listing all deployed processes."
   ]
  },
  {
   "cell_type": "code",
   "execution_count": 2,
   "id": "b19a544f",
   "metadata": {},
   "outputs": [
    {
     "data": {
      "text/plain": [
       "{'processes': []}"
      ]
     },
     "execution_count": 2,
     "metadata": {},
     "output_type": "execute_result"
    }
   ],
   "source": [
    "requests.get(f'{sps_url}/processes').json()"
   ]
  },
  {
   "cell_type": "markdown",
   "id": "408e1eea",
   "metadata": {},
   "source": [
    "OGC Application Descriptor for BCDP Regridding"
   ]
  },
  {
   "cell_type": "code",
   "execution_count": 3,
   "id": "d2627e41",
   "metadata": {},
   "outputs": [
    {
     "data": {
      "text/plain": [
       "{'processDescription': {'process': {'id': 'unity-analytics-bcdp.58c0285a',\n",
       "   'title': 'Readd docker req to process.cwl\\n',\n",
       "   'owsContext': {'offering': {'content': {'href': 'https://raw.githubusercontent.com/unity-sds/unity-analytics-bcdp/main/examples/cmip6-bucket/cwl/workflow.cwl'}}},\n",
       "   'abstract': 'Application Package Demo',\n",
       "   'keywords': ['Demo'],\n",
       "   'inputs': [{'id': 'dataset',\n",
       "     'title': 'Automatically detected using papermill.',\n",
       "     'literalDataDomains': [{'dataType': {'name': 'string'}}]},\n",
       "    {'id': 'backend',\n",
       "     'title': 'Automatically detected using papermill.',\n",
       "     'literalDataDomains': [{'dataType': {'name': 'string'}}]},\n",
       "    {'id': 'method',\n",
       "     'title': 'Automatically detected using papermill.',\n",
       "     'literalDataDomains': [{'dataType': {'name': 'string'}}]},\n",
       "    {'id': 'dlon',\n",
       "     'title': 'Automatically detected using papermill.',\n",
       "     'literalDataDomains': [{'dataType': {'name': 'float'}}]},\n",
       "    {'id': 'dlat',\n",
       "     'title': 'Automatically detected using papermill.',\n",
       "     'literalDataDomains': [{'dataType': {'name': 'float'}}]}],\n",
       "   'outputs': [{'id': 'nc_file',\n",
       "     'title': 'Automatically detected from .ipynb parsing.',\n",
       "     'output': {'formats': [{'mimeType': 'text/*', 'default': True}]}}]},\n",
       "  'processVersion': '1.0.0',\n",
       "  'jobControlOptions': ['async-execute'],\n",
       "  'outputTransmission': ['reference']},\n",
       " 'immediateDeployment': True,\n",
       " 'executionUnit': [{'href': 'docker://unity-analytics-bcdp:58c0285a'}]}"
      ]
     },
     "execution_count": 3,
     "metadata": {},
     "output_type": "execute_result"
    }
   ],
   "source": [
    "app_desc = requests.get(app_url).json()\n",
    "app_desc"
   ]
  },
  {
   "cell_type": "markdown",
   "id": "0a2c282a",
   "metadata": {},
   "source": [
    "Deploy the BCDP App"
   ]
  },
  {
   "cell_type": "code",
   "execution_count": 4,
   "id": "79e16315",
   "metadata": {},
   "outputs": [
    {
     "data": {
      "text/plain": [
       "{'deploymentResult': {'processSummary': {'abstract': 'Application Package Demo',\n",
       "   'id': 'unity-analytics-bcdp.58c0285a',\n",
       "   'jobControlOptions': ['async-execute'],\n",
       "   'keywords': ['Demo'],\n",
       "   'processDescriptionURL': 'http://127.0.0.1:5000/processes/unity-analytics-bcdp.58c0285a:1.0.0',\n",
       "   'title': 'Readd docker req to process.cwl\\n',\n",
       "   'version': '1.0.0'}}}"
      ]
     },
     "execution_count": 4,
     "metadata": {},
     "output_type": "execute_result"
    }
   ],
   "source": [
    "result = requests.post(f'{sps_url}/processes', json=app_desc).json()\n",
    "pid = result['deploymentResult']['processSummary']['processDescriptionURL'].split('/')[-1]\n",
    "result"
   ]
  },
  {
   "cell_type": "markdown",
   "id": "d71a1479",
   "metadata": {},
   "source": [
    "Verify success of deployment"
   ]
  },
  {
   "cell_type": "code",
   "execution_count": 5,
   "id": "4fb8babc",
   "metadata": {},
   "outputs": [
    {
     "data": {
      "text/plain": [
       "{'processes': [{'abstract': 'Application Package Demo',\n",
       "   'executionUnit': 1,\n",
       "   'id': 'unity-analytics-bcdp.58c0285a:1.0.0',\n",
       "   'immediateDeployment': 'true',\n",
       "   'inputs': [{'id': 'dataset',\n",
       "     'literalDataDomains': [{'dataType': {'name': 'string'}}],\n",
       "     'title': 'Automatically detected using papermill.'},\n",
       "    {'id': 'backend',\n",
       "     'literalDataDomains': [{'dataType': {'name': 'string'}}],\n",
       "     'title': 'Automatically detected using papermill.'},\n",
       "    {'id': 'method',\n",
       "     'literalDataDomains': [{'dataType': {'name': 'string'}}],\n",
       "     'title': 'Automatically detected using papermill.'},\n",
       "    {'id': 'dlon',\n",
       "     'literalDataDomains': [{'dataType': {'name': 'float'}}],\n",
       "     'title': 'Automatically detected using papermill.'},\n",
       "    {'id': 'dlat',\n",
       "     'literalDataDomains': [{'dataType': {'name': 'float'}}],\n",
       "     'title': 'Automatically detected using papermill.'}],\n",
       "   'jobControlOptions': ['async-execute'],\n",
       "   'keywords': 'Demo',\n",
       "   'outputTransmission': ['reference'],\n",
       "   'outputs': [{'id': 'nc_file',\n",
       "     'output': {'formats': [{'default': True, 'mimeType': 'text/*'}]},\n",
       "     'title': 'Automatically detected from .ipynb parsing.'}],\n",
       "   'owsContextURL': 'https://raw.githubusercontent.com/unity-sds/unity-analytics-bcdp/main/examples/cmip6-bucket/cwl/workflow.cwl',\n",
       "   'processVersion': '1.0.0',\n",
       "   'title': 'Readd docker req to process.cwl\\n'}]}"
      ]
     },
     "execution_count": 5,
     "metadata": {},
     "output_type": "execute_result"
    }
   ],
   "source": [
    "requests.get(f'{sps_url}/processes').json()"
   ]
  },
  {
   "cell_type": "code",
   "execution_count": 6,
   "id": "d47bb73e",
   "metadata": {},
   "outputs": [
    {
     "data": {
      "text/plain": [
       "{'process': {'abstract': 'Application Package Demo',\n",
       "  'executionUnit': 1,\n",
       "  'id': 'unity-analytics-bcdp.58c0285a:1.0.0',\n",
       "  'immediateDeployment': 'true',\n",
       "  'inputs': [{'id': 'dataset',\n",
       "    'literalDataDomains': [{'dataType': {'name': 'string'}}],\n",
       "    'title': 'Automatically detected using papermill.'},\n",
       "   {'id': 'backend',\n",
       "    'literalDataDomains': [{'dataType': {'name': 'string'}}],\n",
       "    'title': 'Automatically detected using papermill.'},\n",
       "   {'id': 'method',\n",
       "    'literalDataDomains': [{'dataType': {'name': 'string'}}],\n",
       "    'title': 'Automatically detected using papermill.'},\n",
       "   {'id': 'dlon',\n",
       "    'literalDataDomains': [{'dataType': {'name': 'float'}}],\n",
       "    'title': 'Automatically detected using papermill.'},\n",
       "   {'id': 'dlat',\n",
       "    'literalDataDomains': [{'dataType': {'name': 'float'}}],\n",
       "    'title': 'Automatically detected using papermill.'}],\n",
       "  'jobControlOptions': ['async-execute'],\n",
       "  'keywords': 'Demo',\n",
       "  'outputTransmission': ['reference'],\n",
       "  'outputs': [{'id': 'nc_file',\n",
       "    'output': {'formats': [{'default': True, 'mimeType': 'text/*'}]},\n",
       "    'title': 'Automatically detected from .ipynb parsing.'}],\n",
       "  'owsContextURL': 'https://raw.githubusercontent.com/unity-sds/unity-analytics-bcdp/main/examples/cmip6-bucket/cwl/workflow.cwl',\n",
       "  'processVersion': '1.0.0',\n",
       "  'title': 'Readd docker req to process.cwl\\n'}}"
      ]
     },
     "execution_count": 6,
     "metadata": {},
     "output_type": "execute_result"
    }
   ],
   "source": [
    "process_url = f'{sps_url}/processes/{pid}'\n",
    "requests.get(process_url).json()"
   ]
  },
  {
   "cell_type": "markdown",
   "id": "52e8a898",
   "metadata": {},
   "source": [
    "Inputs to pass to job execution. These should match the parameters in the papermilled notebook and application descriptor, which for this example are:\n",
    "- dataset: Link to S3 bucket url for dataset file\n",
    "- backend: Regridding Library to use\n",
    "- method: Regridding Algorithm\n",
    "- dlon, dlat: lon / lat grid spacing in degrees"
   ]
  },
  {
   "cell_type": "code",
   "execution_count": 7,
   "id": "3cbd854d",
   "metadata": {},
   "outputs": [],
   "source": [
    "app_inputs = {\n",
    "    \"mode\": \"async\",\n",
    "    \"response\": \"document\",\n",
    "    \"inputs\": [\n",
    "      {\n",
    "        \"id\": \"dataset\", \n",
    "        \"data\": \"s3://cmip6-pds/CMIP6/CMIP/NCAR/CESM2-WACCM/historical/r1i1p1f1/Amon/tas/gn/v20190227/\"\n",
    "      }, \n",
    "      {\n",
    "        \"id\": \"backend\", \n",
    "        \"data\": \"scipy\"\n",
    "      }, \n",
    "      {\n",
    "        \"id\": \"method\", \n",
    "        \"data\": \"linear\"\n",
    "      }, \n",
    "      {\n",
    "        \"id\": \"dlon\", \n",
    "        \"data\": 5\n",
    "      }, \n",
    "      {\n",
    "        \"id\": \"dlat\", \n",
    "        \"data\": 5\n",
    "      }\n",
    "    ],    \n",
    "    \"outputs\": [\n",
    "    {\n",
    "      \"id\": \"output\",\n",
    "      \"transmissionMode\": \"reference\"\n",
    "    }\n",
    "    ] \n",
    "    }"
   ]
  },
  {
   "cell_type": "markdown",
   "id": "93888f5e",
   "metadata": {},
   "source": [
    "Stage the job for execution"
   ]
  },
  {
   "cell_type": "code",
   "execution_count": 8,
   "id": "d669d7d7",
   "metadata": {},
   "outputs": [
    {
     "data": {
      "text/plain": [
       "<Response [201]>"
      ]
     },
     "execution_count": 8,
     "metadata": {},
     "output_type": "execute_result"
    }
   ],
   "source": [
    "# Need to do this due to bug in U-SPS with job-id\n",
    "jobs_url = process_url.replace('unity-analytics-bcdp.', '') + '/jobs'\n",
    "requests.post(jobs_url, json=app_inputs)"
   ]
  },
  {
   "cell_type": "markdown",
   "id": "cc417d44",
   "metadata": {},
   "source": [
    "Check job status"
   ]
  },
  {
   "cell_type": "code",
   "execution_count": 9,
   "id": "f21bd4ca",
   "metadata": {},
   "outputs": [
    {
     "data": {
      "text/plain": [
       "{'jobs': [{'inputs': [{'destination': 'context',\n",
       "     'name': 'dataset',\n",
       "     'value': 's3://cmip6-pds/CMIP6/CMIP/NCAR/CESM2-WACCM/historical/r1i1p1f1/Amon/tas/gn/v20190227/'},\n",
       "    {'destination': 'context', 'name': 'backend', 'value': 'scipy'},\n",
       "    {'destination': 'context', 'name': 'method', 'value': 'linear'},\n",
       "    {'destination': 'context', 'name': 'dlon', 'value': 5},\n",
       "    {'destination': 'context', 'name': 'dlat', 'value': 5}],\n",
       "   'jobID': '750c3aa6-c3f8-429d-bbcf-8c8d5e1ed5ed',\n",
       "   'status': 'running'},\n",
       "  {'inputs': [{'destination': 'context',\n",
       "     'name': 'dataset',\n",
       "     'value': 's3://cmip6-pds/CMIP6/CMIP/NCAR/CESM2-WACCM/historical/r1i1p1f1/Amon/tas/gn/v20190227/'},\n",
       "    {'destination': 'context', 'name': 'backend', 'value': 'scipy'},\n",
       "    {'destination': 'context', 'name': 'method', 'value': 'linear'},\n",
       "    {'destination': 'context', 'name': 'dlon', 'value': 5},\n",
       "    {'destination': 'context', 'name': 'dlat', 'value': 5}],\n",
       "   'jobID': '8e428896-630a-4df3-9fe4-defd62b0259a',\n",
       "   'status': 'succeeded'},\n",
       "  {'inputs': [{'destination': 'context',\n",
       "     'name': 'dataset',\n",
       "     'value': 's3://cmip6-pds/CMIP6/CMIP/NCAR/CESM2-WACCM/historical/r1i1p1f1/Amon/tas/gn/v20190227/'},\n",
       "    {'destination': 'context', 'name': 'backend', 'value': 'scipy'},\n",
       "    {'destination': 'context', 'name': 'method', 'value': 'linear'},\n",
       "    {'destination': 'context', 'name': 'dlon', 'value': 5},\n",
       "    {'destination': 'context', 'name': 'dlat', 'value': 5}],\n",
       "   'jobID': 'c004b63c-01b3-47cd-a2eb-a3a586a7f6d2',\n",
       "   'status': 'succeeded'},\n",
       "  {'inputs': [{'destination': 'context',\n",
       "     'name': 'dataset',\n",
       "     'value': 's3://cmip6-pds/CMIP6/CMIP/NCAR/CESM2-WACCM/historical/r1i1p1f1/Amon/tas/gn/v20190227/'},\n",
       "    {'destination': 'context', 'name': 'backend', 'value': 'scipy'},\n",
       "    {'destination': 'context', 'name': 'method', 'value': 'linear'},\n",
       "    {'destination': 'context', 'name': 'dlon', 'value': 5},\n",
       "    {'destination': 'context', 'name': 'dlat', 'value': 5}],\n",
       "   'jobID': '936f9578-3be9-4365-935a-a21cb1fa1afb',\n",
       "   'status': 'succeeded'},\n",
       "  {'inputs': [{'destination': 'context',\n",
       "     'name': 'dataset',\n",
       "     'value': 's3://cmip6-pds/CMIP6/CMIP/NCAR/CESM2-WACCM/historical/r1i1p1f1/Amon/tas/gn/v20190227/'},\n",
       "    {'destination': 'context', 'name': 'backend', 'value': 'scipy'},\n",
       "    {'destination': 'context', 'name': 'method', 'value': 'linear'},\n",
       "    {'destination': 'context', 'name': 'dlon', 'value': 5},\n",
       "    {'destination': 'context', 'name': 'dlat', 'value': 5}],\n",
       "   'jobID': '4ff1865d-5494-4c67-8595-f2646886176c',\n",
       "   'status': 'succeeded'}]}"
      ]
     },
     "execution_count": 9,
     "metadata": {},
     "output_type": "execute_result"
    }
   ],
   "source": [
    "requests.get(jobs_url).json()"
   ]
  },
  {
   "cell_type": "markdown",
   "id": "b193925c",
   "metadata": {},
   "source": [
    "Remove BCDP App from deployment"
   ]
  },
  {
   "cell_type": "code",
   "execution_count": null,
   "id": "333215ed",
   "metadata": {},
   "outputs": [],
   "source": [
    "#requests.delete(process_url)"
   ]
  },
  {
   "cell_type": "code",
   "execution_count": null,
   "id": "6636c788",
   "metadata": {},
   "outputs": [],
   "source": []
  }
 ],
 "metadata": {
  "kernelspec": {
   "display_name": "Python 3 (ipykernel)",
   "language": "python",
   "name": "python3"
  },
  "language_info": {
   "codemirror_mode": {
    "name": "ipython",
    "version": 3
   },
   "file_extension": ".py",
   "mimetype": "text/x-python",
   "name": "python",
   "nbconvert_exporter": "python",
   "pygments_lexer": "ipython3",
   "version": "3.8.17"
  }
 },
 "nbformat": 4,
 "nbformat_minor": 5
}
