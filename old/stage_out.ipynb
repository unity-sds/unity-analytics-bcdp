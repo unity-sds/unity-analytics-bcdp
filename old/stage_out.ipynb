{
 "cells": [
  {
   "cell_type": "code",
   "execution_count": 4,
   "id": "646785f5",
   "metadata": {},
   "outputs": [],
   "source": [
    "import uuid\n",
    "import shutil\n",
    "import glob\n",
    "import os"
   ]
  },
  {
   "cell_type": "code",
   "execution_count": 5,
   "id": "784f59f4",
   "metadata": {
    "tags": [
     "parameters"
    ]
   },
   "outputs": [],
   "source": [
    "out_dir = '/Users/goodman/projects/unity/out'"
   ]
  },
  {
   "cell_type": "code",
   "execution_count": 6,
   "id": "3121cd08",
   "metadata": {},
   "outputs": [],
   "source": [
    "output_files = glob.glob('*.nc') + glob.glob('*.png')\n",
    "sub_dir = str(uuid.uuid4())\n",
    "os.makedirs(os.path.join(out_dir, sub_dir))\n",
    "for f in output_files:\n",
    "    shutil.move(f, os.path.join(out_dir, sub_dir, os.path.basename(f)))\n",
    "#shutil.rmtree(input_dir)"
   ]
  },
  {
   "cell_type": "code",
   "execution_count": null,
   "id": "09c78bc1",
   "metadata": {},
   "outputs": [],
   "source": []
  }
 ],
 "metadata": {
  "kernelspec": {
   "display_name": "Python 3",
   "language": "python",
   "name": "python3"
  },
  "language_info": {
   "codemirror_mode": {
    "name": "ipython",
    "version": 3
   },
   "file_extension": ".py",
   "mimetype": "text/x-python",
   "name": "python",
   "nbconvert_exporter": "python",
   "pygments_lexer": "ipython3",
   "version": "3.7.6"
  }
 },
 "nbformat": 4,
 "nbformat_minor": 5
}
