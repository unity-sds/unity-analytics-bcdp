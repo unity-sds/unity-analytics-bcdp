{
 "cells": [
  {
   "cell_type": "markdown",
   "metadata": {},
   "source": [
    "# BCDP CMIP6 Example\n",
    "## Quick Overview\n",
    "Here we will do a quick walkthrough of using BCDP to process some regional climate simulations from the Coordinate Regional Downscaling Experiment"
   ]
  },
  {
   "cell_type": "code",
   "execution_count": 1,
   "metadata": {},
   "outputs": [],
   "source": [
    "import os\n",
    "import glob\n",
    "import numpy as np\n",
    "import bcdp\n",
    "import matplotlib.pyplot as plt"
   ]
  },
  {
   "cell_type": "markdown",
   "metadata": {},
   "source": [
    "Create a file conventions template. Here we only need the model and variable names so the rest of the file template is filled in by wildcards."
   ]
  },
  {
   "cell_type": "code",
   "execution_count": 2,
   "metadata": {
    "tags": [
     "parameters"
    ]
   },
   "outputs": [],
   "source": [
    "# Dataset Options\n",
    "dataset = 's3://cmip6-pds/CMIP6/CMIP/NCAR/CESM2-WACCM/historical/r1i1p1f1/Amon/tas/gn/v20190227/'\n",
    "\n",
    "# Regridding Options\n",
    "backend = 'scipy'\n",
    "method = 'linear'\n",
    "dlon = 5\n",
    "dlat = 5\n",
    "\n",
    "# Output\n",
    "nc_file = 'CMIP_example.nc' # type: stage-out"
   ]
  },
  {
   "cell_type": "markdown",
   "metadata": {},
   "source": [
    "Load the data. Because we have loaded the template, the loader now knows exactly how to extract the required informations from the filenames."
   ]
  },
  {
   "cell_type": "code",
   "execution_count": 3,
   "metadata": {
    "scrolled": true
   },
   "outputs": [
    {
     "name": "stderr",
     "output_type": "stream",
     "text": [
      "/Users/goodman/opt/envs/py37/lib/python3.7/site-packages/xarray/core/dataarray.py:3268: FutureWarning: roll_coords will be set to False in the future. Explicitly set roll_coords to silence warning.\n",
      "  shifts=shifts, roll_coords=roll_coords, **shifts_kwargs\n"
     ]
    }
   ],
   "source": [
    "import pandas as pd\n",
    "ens = bcdp.load_bucket(dataset, anon=True)"
   ]
  },
  {
   "cell_type": "markdown",
   "metadata": {},
   "source": [
    "The loader returns an `Ensemble` object, which is essentially a collection of datasets and applies preprocessing operations to each of them. Here we will regrid the data to a coarser (5 degree) grid using bilinear interpolation, and consider only the winter months (DJF)."
   ]
  },
  {
   "cell_type": "code",
   "execution_count": 4,
   "metadata": {},
   "outputs": [],
   "source": [
    "output_grid = bcdp.utils.grid_from_res((dlon, dlat), ens.overlap)\n",
    "ens_u = ens.regrid(backend=backend, method=method, output_grid=output_grid, clean=False)"
   ]
  },
  {
   "cell_type": "markdown",
   "metadata": {},
   "source": [
    "Now that the underlying datastructures are homogeneous (same grid and time step), we can convert it to an xarray dataarray which has dimensions (names, time, lat, lon)."
   ]
  },
  {
   "cell_type": "code",
   "execution_count": 5,
   "metadata": {},
   "outputs": [],
   "source": [
    "da = ens.bundle('Temperature').first\n",
    "da.to_netcdf(nc_file)"
   ]
  }
 ],
 "metadata": {
  "kernelspec": {
   "display_name": "Python 3",
   "language": "python",
   "name": "python3"
  },
  "language_info": {
   "codemirror_mode": {
    "name": "ipython",
    "version": 3
   },
   "file_extension": ".py",
   "mimetype": "text/x-python",
   "name": "python",
   "nbconvert_exporter": "python",
   "pygments_lexer": "ipython3",
   "version": "3.7.6"
  }
 },
 "nbformat": 4,
 "nbformat_minor": 4
}
